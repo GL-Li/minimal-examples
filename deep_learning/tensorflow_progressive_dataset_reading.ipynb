{
 "cells": [
  {
   "cell_type": "markdown",
   "metadata": {},
   "source": [
    "# Understand how TensorFlow Dataset API reads dataset progressively\n",
    "To demonstrate the progressive reading of dataset"
   ]
  },
  {
   "cell_type": "markdown",
   "metadata": {},
   "source": [
    "## Make a dummy sample"
   ]
  },
  {
   "cell_type": "code",
   "execution_count": 35,
   "metadata": {},
   "outputs": [],
   "source": [
    "import pandas as pd\n",
    "import numpy as np\n",
    "import matplotlib.pyplot as plt"
   ]
  },
  {
   "cell_type": "code",
   "execution_count": 57,
   "metadata": {},
   "outputs": [],
   "source": [
    "df = pd.DataFrame({'x':range(3000), 'y':np.random.randn(3000)})\n",
    "df['z'] = df.x + df.y * np.sqrt(df.x)\n",
    "\n",
    "for i in [0, 1, 2]:\n",
    "    dfi = df.iloc[1000 * i : 1000 * (i + 1)]\n",
    "    dfi.to_csv(f'sample.csv-{i}', header=False, index=False)"
   ]
  },
  {
   "cell_type": "markdown",
   "metadata": {},
   "source": [
    "## Use TensorFlow Dataset API\n",
    "We are going to read the three smaller files"
   ]
  },
  {
   "cell_type": "code",
   "execution_count": 37,
   "metadata": {},
   "outputs": [
    {
     "name": "stdout",
     "output_type": "stream",
     "text": [
      "1.14.0\n"
     ]
    }
   ],
   "source": [
    "import tensorflow as tf\n",
    "print(tf.__version__)"
   ]
  },
  {
   "cell_type": "code",
   "execution_count": 38,
   "metadata": {},
   "outputs": [],
   "source": [
    "csv_columns = ['x', 'y', 'z']\n",
    "defaults = [[1.0], [1.0], [1.0]]\n",
    "\n",
    "def read_dataset(filename, batch_size=3):\n",
    "    def decode_line(row):\n",
    "        cols = tf.decode_csv(row, record_defaults=defaults)\n",
    "        features = {}\n",
    "        for i, col in zip(range(len(csv_columns)-1), csv_columns[:-1]):\n",
    "            features[col] = cols[i]\n",
    "        label = cols[-1]\n",
    "        return features, label\n",
    "        \n",
    "    dataset = tf.data.Dataset.list_files(filename + '-*', shuffle=False) # default shuffle order of files randomly\n",
    "    dataset = dataset.flat_map(tf.data.TextLineDataset).map(decode_line)\n",
    "    dataset = dataset.batch(batch_size)\n",
    "    dataset = dataset.make_one_shot_iterator().get_next()  # only takes effect in model training\n",
    "  \n",
    "    return dataset"
   ]
  },
  {
   "cell_type": "code",
   "execution_count": 39,
   "metadata": {},
   "outputs": [],
   "source": [
    "test = read_dataset('sample.csv', batch_size=8)"
   ]
  },
  {
   "cell_type": "code",
   "execution_count": 40,
   "metadata": {},
   "outputs": [
    {
     "name": "stdout",
     "output_type": "stream",
     "text": [
      "({'x': array([0., 1., 2., 3., 4., 5., 6., 7.], dtype=float32), 'y': array([ 0.44659486,  0.21415916, -1.6992335 ,  1.063166  ,  0.2578529 ,\n",
      "       -0.75224745,  1.1340697 , -0.7952736 ], dtype=float32)}, array([0.44659486, 1.2141591 , 0.30076647, 4.063166  , 4.257853  ,\n",
      "       4.2477527 , 7.13407   , 6.204726  ], dtype=float32))\n"
     ]
    }
   ],
   "source": [
    "# execute the test node, it only have batch_size samples.\n",
    "with tf.Session() as sess:\n",
    "    print(sess.run(test))"
   ]
  },
  {
   "cell_type": "code",
   "execution_count": 41,
   "metadata": {},
   "outputs": [
    {
     "name": "stdout",
     "output_type": "stream",
     "text": [
      "({'x': array([0., 1., 2., 3., 4., 5., 6., 7.], dtype=float32), 'y': array([ 0.44659486,  0.21415916, -1.6992335 ,  1.063166  ,  0.2578529 ,\n",
      "       -0.75224745,  1.1340697 , -0.7952736 ], dtype=float32)}, array([0.44659486, 1.2141591 , 0.30076647, 4.063166  , 4.257853  ,\n",
      "       4.2477527 , 7.13407   , 6.204726  ], dtype=float32))\n"
     ]
    }
   ],
   "source": [
    "# execute the test node again, won't get next 8 values\n",
    "with tf.Session() as sess:\n",
    "    print(sess.run(test))"
   ]
  },
  {
   "cell_type": "markdown",
   "metadata": {},
   "source": [
    "## Feed data to a linear regression model"
   ]
  },
  {
   "cell_type": "code",
   "execution_count": 42,
   "metadata": {},
   "outputs": [],
   "source": [
    "feat_cols = [tf.feature_column.numeric_column('x'),\n",
    "             tf.feature_column.numeric_column('y')]\n",
    "\n",
    "def train_input_fn(): #(filename, batch_size):\n",
    "    return read_dataset('sample.csv', 56)"
   ]
  },
  {
   "cell_type": "code",
   "execution_count": 43,
   "metadata": {},
   "outputs": [
    {
     "name": "stderr",
     "output_type": "stream",
     "text": [
      "W1030 16:00:55.693110 140179253536576 estimator.py:1811] Using temporary folder as model directory: /tmp/tmpbj7wt460\n"
     ]
    },
    {
     "data": {
      "text/plain": [
       "<tensorflow_estimator.python.estimator.canned.linear.LinearRegressor at 0x7f7d9054a240>"
      ]
     },
     "execution_count": 43,
     "metadata": {},
     "output_type": "execute_result"
    }
   ],
   "source": [
    "model = tf.estimator.LinearRegressor(feat_cols)\n",
    "model.train(input_fn = train_input_fn, steps=1000)"
   ]
  },
  {
   "cell_type": "code",
   "execution_count": 44,
   "metadata": {},
   "outputs": [],
   "source": [
    "pred = model.predict(train_input_fn)"
   ]
  },
  {
   "cell_type": "code",
   "execution_count": 45,
   "metadata": {},
   "outputs": [],
   "source": [
    "z_pred = np.array([pr['predictions'] for pr in pred])"
   ]
  },
  {
   "cell_type": "code",
   "execution_count": 48,
   "metadata": {},
   "outputs": [
    {
     "data": {
      "text/plain": [
       "<matplotlib.collections.PathCollection at 0x7f7d9106df98>"
      ]
     },
     "execution_count": 48,
     "metadata": {},
     "output_type": "execute_result"
    },
    {
     "data": {
      "image/png": "[encoded data removed]",
      "text/plain": [
       "<Figure size 432x288 with 1 Axes>"
      ]
     },
     "metadata": {
      "needs_background": "light"
     },
     "output_type": "display_data"
    }
   ],
   "source": [
    "plt.scatter(range(3000), z_pred, s=1)"
   ]
  },
  {
   "cell_type": "markdown",
   "metadata": {},
   "source": [
    "### DNN model"
   ]
  },
  {
   "cell_type": "code",
   "execution_count": 58,
   "metadata": {},
   "outputs": [
    {
     "name": "stderr",
     "output_type": "stream",
     "text": [
      "W1030 16:29:33.975753 140179253536576 estimator.py:1811] Using temporary folder as model directory: /tmp/tmpj4u515_7\n"
     ]
    },
    {
     "data": {
      "text/plain": [
       "<tensorflow_estimator.python.estimator.canned.dnn.DNNRegressor at 0x7f7d91221cc0>"
      ]
     },
     "execution_count": 58,
     "metadata": {},
     "output_type": "execute_result"
    }
   ],
   "source": [
    "dnn = tf.estimator.DNNRegressor([32,8], feat_cols)\n",
    "dnn.train(train_input_fn)"
   ]
  },
  {
   "cell_type": "code",
   "execution_count": 59,
   "metadata": {},
   "outputs": [],
   "source": [
    "pred = dnn.predict(train_input_fn)\n",
    "z_pred = np.array([pr['predictions'] for pr in pred])"
   ]
  },
  {
   "cell_type": "code",
   "execution_count": 60,
   "metadata": {},
   "outputs": [
    {
     "data": {
      "text/plain": [
       "<matplotlib.collections.PathCollection at 0x7f7d910b85f8>"
      ]
     },
     "execution_count": 60,
     "metadata": {},
     "output_type": "execute_result"
    },
    {
     "data": {
      "image/png": "[encoded data removed]",
      "text/plain": [
       "<Figure size 432x288 with 1 Axes>"
      ]
     },
     "metadata": {
      "needs_background": "light"
     },
     "output_type": "display_data"
    }
   ],
   "source": [
    "plt.scatter(range(3000), z_pred, s=1)"
   ]
  },
  {
   "cell_type": "markdown",
   "metadata": {},
   "source": [
    "### How to compare predictions to true values"
   ]
  },
  {
   "cell_type": "code",
   "execution_count": null,
   "metadata": {},
   "outputs": [],
   "source": [
    "z = "
   ]
  }
 ],
 "metadata": {
  "kernelspec": {
   "display_name": "Python 3",
   "language": "python",
   "name": "python3"
  },
  "language_info": {
   "codemirror_mode": {
    "name": "ipython",
    "version": 3
   },
   "file_extension": ".py",
   "mimetype": "text/x-python",
   "name": "python",
   "nbconvert_exporter": "python",
   "pygments_lexer": "ipython3",
   "version": "3.7.3"
  }
 },
 "nbformat": 4,
 "nbformat_minor": 2
}

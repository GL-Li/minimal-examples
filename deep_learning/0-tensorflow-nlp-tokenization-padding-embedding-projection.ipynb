{
 "cells": [
  {
   "cell_type": "markdown",
   "metadata": {},
   "source": [
    "## Goal\n",
    "This minimal example shows how to train a model to predict if a news headline is sarcastic or not. \n",
    "\n",
    "## Data source\n",
    "The dataset is hosted on [github](https://github.com/rishabhmisra/News-Headlines-Dataset-For-Sarcasm-Detection/raw/master/Sarcasm_Headlines_Dataset.json). It is in json format. Here are the examples of two entries:\n",
    "```\n",
    "{\"is_sarcastic\": 1, \"headline\": \"thirtysomething scientists unveil doomsday clock of hair loss\", \"article_link\": \"https://www.theonion.com/thirtysomething-scientists-unveil-doomsday-clock-of-hai-1819586205\"}\n",
    "{\"is_sarcastic\": 0, \"headline\": \"dem rep. totally nails why congress is falling short on gender, racial equality\", \"article_link\": \"https://www.huffingtonpost.com/entry/donna-edwards-inequality_us_57455f7fe4b055bb1170b207\"}\n",
    "```\n",
    "\n",
    "Each entry has three keys: `is_sarcastic`, `headline`, and `article_link`."
   ]
  },
  {
   "cell_type": "code",
   "execution_count": 4,
   "metadata": {
    "collapsed": true
   },
   "outputs": [
    {
     "name": "stdout",
     "output_type": "stream",
     "text": [
      "--2019-12-02 12:27:12--  https://github.com/rishabhmisra/News-Headlines-Dataset-For-Sarcasm-Detection/raw/master/Sarcasm_Headlines_Dataset.json\n",
      "Resolving github.com (github.com)... 192.30.253.113\n",
      "Connecting to github.com (github.com)|192.30.253.113|:443... connected.\n",
      "HTTP request sent, awaiting response... 302 Found\n",
      "Location: https://raw.githubusercontent.com/rishabhmisra/News-Headlines-Dataset-For-Sarcasm-Detection/master/Sarcasm_Headlines_Dataset.json [following]\n",
      "--2019-12-02 12:27:13--  https://raw.githubusercontent.com/rishabhmisra/News-Headlines-Dataset-For-Sarcasm-Detection/master/Sarcasm_Headlines_Dataset.json\n",
      "Resolving raw.githubusercontent.com (raw.githubusercontent.com)... 151.101.116.133\n",
      "Connecting to raw.githubusercontent.com (raw.githubusercontent.com)|151.101.116.133|:443... connected.\n",
      "HTTP request sent, awaiting response... 200 OK\n",
      "Length: 6057046 (5.8M) [text/plain]\n",
      "Saving to: ‘/home/gl/tmp/sarcastic.json’\n",
      "\n",
      "/home/gl/tmp/sarcas 100%[===================>]   5.78M  4.01MB/s    in 1.4s    \n",
      "\n",
      "2019-12-02 12:27:15 (4.01 MB/s) - ‘/home/gl/tmp/sarcastic.json’ saved [6057046/6057046]\n",
      "\n"
     ]
    }
   ],
   "source": [
    "# download the data if not yet\n",
    "!wget https://github.com/rishabhmisra/News-Headlines-Dataset-For-Sarcasm-Detection/raw/master/Sarcasm_Headlines_Dataset.json -O ~/tmp/sarcastic.json"
   ]
  },
  {
   "cell_type": "markdown",
   "metadata": {},
   "source": [
    "Although in json format, the file cannot be read directly into pandas dataframe like \n",
    "\n",
    "```\n",
    "data_raw = pd.read_json(\"~/tmp/sarcastic.json\").\n",
    "```\n",
    "\n",
    "It won't be read by `json` package directly either like:\n",
    "\n",
    "```\n",
    "with open(\"~/tmp/sarcastic.json\", \"r\") as f:\n",
    "    data_raw = json.load(f)\n",
    "```\n",
    "\n",
    "Anyway, as each entry is a standard json entry, we can always process line by line."
   ]
  },
  {
   "cell_type": "code",
   "execution_count": 1,
   "metadata": {},
   "outputs": [],
   "source": [
    "import json\n",
    "with open(\"/home/gl/tmp/sarcastic.json\", \"r\") as f:\n",
    "    lines_json = f.readlines()"
   ]
  },
  {
   "cell_type": "markdown",
   "metadata": {},
   "source": [
    "The list of lines can be converted to list of dictionary for easy retrieval of keys and values."
   ]
  },
  {
   "cell_type": "code",
   "execution_count": 2,
   "metadata": {},
   "outputs": [],
   "source": [
    "lines_dic = [json.loads(lj) for lj in lines_json]"
   ]
  },
  {
   "cell_type": "code",
   "execution_count": 3,
   "metadata": {},
   "outputs": [],
   "source": [
    "headlines = [ld['headline'] for ld in lines_dic]\n",
    "is_sarcastic = [ld['is_sarcastic'] for ld in lines_dic]"
   ]
  },
  {
   "cell_type": "code",
   "execution_count": 4,
   "metadata": {},
   "outputs": [
    {
     "name": "stdout",
     "output_type": "stream",
     "text": [
      "The first headline: thirtysomething scientists unveil doomsday clock of hair loss.\n",
      "The is_sarcastic label of the first headline: 1.\n"
     ]
    }
   ],
   "source": [
    "print(f\"The first headline: {headlines[0]}.\")\n",
    "print(f\"The is_sarcastic label of the first headline: {is_sarcastic[0]}.\")"
   ]
  },
  {
   "cell_type": "markdown",
   "metadata": {},
   "source": [
    "The two lists: `headlines` and `is_sarcastic` are the raw training data and labels for building the model."
   ]
  },
  {
   "cell_type": "markdown",
   "metadata": {},
   "source": [
    "## Preprocessing text in TensorFlow\n",
    "We will tokenize each sentence and add pad to make the same-length token sequence for each sentence."
   ]
  },
  {
   "cell_type": "code",
   "execution_count": 5,
   "metadata": {},
   "outputs": [],
   "source": [
    "import numpy as np\n",
    "import matplotlib.pyplot as plt\n",
    "import tensorflow as tf\n",
    "from tensorflow.keras.preprocessing.text import Tokenizer\n",
    "from tensorflow.keras.preprocessing.sequence import pad_sequences"
   ]
  },
  {
   "cell_type": "code",
   "execution_count": 6,
   "metadata": {},
   "outputs": [],
   "source": [
    "tokenizer = Tokenizer(num_words=10000, oov_token=\"<oov>\")\n",
    "tokenizer.fit_on_texts(headlines)"
   ]
  },
  {
   "cell_type": "code",
   "execution_count": 7,
   "metadata": {},
   "outputs": [],
   "source": [
    "# words are ordered by frequency\n",
    "word_index = tokenizer.word_index"
   ]
  },
  {
   "cell_type": "code",
   "execution_count": 8,
   "metadata": {},
   "outputs": [
    {
     "data": {
      "text/plain": [
       "[[1, 355, 3167, 7474, 2644, 3, 661, 1119],\n",
       " [7475, 1775, 758, 3168, 47, 239, 11, 1844, 1048, 8, 1528, 2154, 1845],\n",
       " [863, 33, 1, 262, 1, 647, 1484]]"
      ]
     },
     "execution_count": 8,
     "metadata": {},
     "output_type": "execute_result"
    }
   ],
   "source": [
    "# convert each sentence into a sequence of integer tokens. \n",
    "sequences = tokenizer.texts_to_sequences(headlines)\n",
    "sequences[0:3]"
   ]
  },
  {
   "cell_type": "code",
   "execution_count": 9,
   "metadata": {},
   "outputs": [
    {
     "data": {
      "text/plain": [
       "(0, 40)"
      ]
     },
     "execution_count": 9,
     "metadata": {},
     "output_type": "execute_result"
    },
    {
     "data": {
      "image/png": "[encoded data removed]",
      "text/plain": [
       "<Figure size 432x288 with 1 Axes>"
      ]
     },
     "metadata": {
      "needs_background": "light"
     },
     "output_type": "display_data"
    }
   ],
   "source": [
    "# length distribution\n",
    "length = np.array([len(sq) for sq in sequences])\n",
    "plt.hist(length, bins=100)\n",
    "plt.xlim(0, 40)"
   ]
  },
  {
   "cell_type": "code",
   "execution_count": 10,
   "metadata": {},
   "outputs": [
    {
     "data": {
      "text/plain": [
       "array([[   1,  355, 3167, 7474, 2644,    3,  661, 1119,    0,    0,    0,\n",
       "           0,    0,    0,    0,    0,    0,    0,    0,    0,    0,    0,\n",
       "           0,    0],\n",
       "       [7475, 1775,  758, 3168,   47,  239,   11, 1844, 1048,    8, 1528,\n",
       "        2154, 1845,    0,    0,    0,    0,    0,    0,    0,    0,    0,\n",
       "           0,    0],\n",
       "       [ 863,   33,    1,  262,    1,  647, 1484,    0,    0,    0,    0,\n",
       "           0,    0,    0,    0,    0,    0,    0,    0,    0,    0,    0,\n",
       "           0,    0]], dtype=int32)"
      ]
     },
     "execution_count": 10,
     "metadata": {},
     "output_type": "execute_result"
    }
   ],
   "source": [
    "# padding the sequeces so that they have the same length\n",
    "padded = pad_sequences(sequences, maxlen=24, padding=\"post\")\n",
    "padded[0:3]"
   ]
  },
  {
   "cell_type": "markdown",
   "metadata": {},
   "source": [
    "## Train-test splitting\n",
    "Train-test split at ratio of 7:3. "
   ]
  },
  {
   "cell_type": "code",
   "execution_count": 11,
   "metadata": {},
   "outputs": [],
   "source": [
    "# automatically shuffling too\n",
    "train_rows = np.random.rand(len(padded)) < 0.7\n",
    "\n",
    "X_train = padded[train_rows]\n",
    "X_test = padded[~train_rows]\n",
    "\n",
    "y = np.array(is_sarcastic)\n",
    "y_train = y[train_rows]\n",
    "y_test = y[~train_rows]"
   ]
  },
  {
   "cell_type": "markdown",
   "metadata": {},
   "source": [
    "## Basic Model training\n",
    "### Embedding layer\n",
    "The embedding layer is always [the first layer](https://machinelearningmastery.com/use-word-embedding-layers-deep-learning-keras/). `Embedding()` has three input arguments:\n",
    "\n",
    "- input_dim: the size of the vocabulary in the text data, **not** the number of sentences.\n",
    "- output_dim: the size of the vector space in which words will be embedded.\n",
    "- input_length: the length of input padded sequences.\n",
    "\n",
    "The input data is a matrix of shape (None, input_length), where None is batch_size, which is default to 32 and can be specified in model fit.\n",
    "\n",
    "The output of the embedding layer has shape (None, input_length, output_dim). It can be flattened to connect to a dense layer.\n",
    "\n",
    "There are steps hidden between input data and output. An input sequence ot tokens is first converted to a sequence of one-hot encoded words based on the vocabulary. Each one-hot encoded word is then treated as a dense layer of input_dim nodes and fully connected to the dense layer of output_dim nodes of the embedding space. The weights and biases in this fully connected layer is to be trained. The output of each word is a tensor of length output_dim. As each sequence has input_length words, the output of a sequence is a tensor of shape (input_length, output_dim).\n",
    "\n",
    "### Flatten layer\n",
    "`Flattern()` converts the output of the embedding layer into a 1D tensor of shape (input_length $\\times$ output_dim,). If a flatten layer is followed by a dense layer, the orders that are part of the high dimensional tensor will be lost as dense layer does not consider the sequence in the flatten layer. \n",
    "\n",
    "### Pooling layer\n",
    "`GlobalAveragePooling1D` also turns an embedding layer into 1D layer of shape (output_dim,), which can then be connected to a dense layer. \n",
    "\n",
    "### Dense layer\n",
    "A dense layer is just a regular layer of neurons in a neural network. It is densely connect to its previous layer as each neuron recieves input from all the neurons in the previous layer. "
   ]
  },
  {
   "cell_type": "markdown",
   "metadata": {},
   "source": [
    "### Model 1"
   ]
  },
  {
   "cell_type": "code",
   "execution_count": 12,
   "metadata": {},
   "outputs": [],
   "source": [
    "model_1 = tf.keras.Sequential([\n",
    "    tf.keras.layers.Embedding(10000, 16, input_length=24),\n",
    "    tf.keras.layers.Flatten(),\n",
    "    tf.keras.layers.Dense(24, activation=\"relu\"),\n",
    "    tf.keras.layers.Dense(1, activation=\"sigmoid\")\n",
    "])"
   ]
  },
  {
   "cell_type": "code",
   "execution_count": 13,
   "metadata": {},
   "outputs": [
    {
     "name": "stdout",
     "output_type": "stream",
     "text": [
      "Model: \"sequential\"\n",
      "_________________________________________________________________\n",
      "Layer (type)                 Output Shape              Param #   \n",
      "=================================================================\n",
      "embedding (Embedding)        (None, 24, 16)            160000    \n",
      "_________________________________________________________________\n",
      "flatten (Flatten)            (None, 384)               0         \n",
      "_________________________________________________________________\n",
      "dense (Dense)                (None, 24)                9240      \n",
      "_________________________________________________________________\n",
      "dense_1 (Dense)              (None, 1)                 25        \n",
      "=================================================================\n",
      "Total params: 169,265\n",
      "Trainable params: 169,265\n",
      "Non-trainable params: 0\n",
      "_________________________________________________________________\n"
     ]
    }
   ],
   "source": [
    "model_1.summary()"
   ]
  },
  {
   "cell_type": "code",
   "execution_count": 25,
   "metadata": {},
   "outputs": [
    {
     "name": "stdout",
     "output_type": "stream",
     "text": [
      "Train on 20000 samples, validate on 8619 samples\n",
      "Epoch 1/20\n",
      "20000/20000 [==============================] - 3s 155us/sample - loss: 0.1873 - accuracy: 0.9273 - val_loss: 0.3078 - val_accuracy: 0.8703\n",
      "Epoch 2/20\n",
      "20000/20000 [==============================] - 3s 131us/sample - loss: 0.0993 - accuracy: 0.9662 - val_loss: 0.3627 - val_accuracy: 0.8659\n",
      "Epoch 3/20\n",
      "20000/20000 [==============================] - 3s 129us/sample - loss: 0.0401 - accuracy: 0.9882 - val_loss: 0.4566 - val_accuracy: 0.8566\n",
      "Epoch 4/20\n",
      "20000/20000 [==============================] - 3s 136us/sample - loss: 0.0136 - accuracy: 0.9969 - val_loss: 0.5280 - val_accuracy: 0.8539\n",
      "Epoch 5/20\n",
      "20000/20000 [==============================] - 3s 135us/sample - loss: 0.0050 - accuracy: 0.9992 - val_loss: 0.5979 - val_accuracy: 0.8532\n",
      "Epoch 6/20\n",
      "20000/20000 [==============================] - 3s 132us/sample - loss: 0.0025 - accuracy: 0.9995 - val_loss: 0.6445 - val_accuracy: 0.8516\n",
      "Epoch 7/20\n",
      "20000/20000 [==============================] - 3s 137us/sample - loss: 0.0015 - accuracy: 0.9998 - val_loss: 0.6879 - val_accuracy: 0.8522\n",
      "Epoch 8/20\n",
      "20000/20000 [==============================] - 3s 133us/sample - loss: 0.0015 - accuracy: 0.9997 - val_loss: 0.7416 - val_accuracy: 0.8460\n",
      "Epoch 9/20\n",
      "20000/20000 [==============================] - 3s 129us/sample - loss: 0.0012 - accuracy: 0.9998 - val_loss: 0.7632 - val_accuracy: 0.8495\n",
      "Epoch 10/20\n",
      "20000/20000 [==============================] - 3s 131us/sample - loss: 9.2407e-04 - accuracy: 0.9998 - val_loss: 0.8000 - val_accuracy: 0.8498\n",
      "Epoch 11/20\n",
      "20000/20000 [==============================] - 3s 130us/sample - loss: 0.0010 - accuracy: 0.9997 - val_loss: 0.8330 - val_accuracy: 0.8473\n",
      "Epoch 12/20\n",
      "20000/20000 [==============================] - 3s 129us/sample - loss: 9.5191e-04 - accuracy: 0.9998 - val_loss: 0.9091 - val_accuracy: 0.8380\n",
      "Epoch 13/20\n",
      "20000/20000 [==============================] - 3s 137us/sample - loss: 6.8710e-04 - accuracy: 0.9998 - val_loss: 0.9033 - val_accuracy: 0.8437\n",
      "Epoch 14/20\n",
      "20000/20000 [==============================] - 3s 135us/sample - loss: 0.0010 - accuracy: 0.9998 - val_loss: 0.9326 - val_accuracy: 0.8435\n",
      "Epoch 15/20\n",
      "20000/20000 [==============================] - 3s 135us/sample - loss: 0.0012 - accuracy: 0.9997 - val_loss: 0.9356 - val_accuracy: 0.8422\n",
      "Epoch 16/20\n",
      "20000/20000 [==============================] - 3s 132us/sample - loss: 0.0010 - accuracy: 0.9997 - val_loss: 0.9697 - val_accuracy: 0.8438\n",
      "Epoch 17/20\n",
      "20000/20000 [==============================] - 3s 130us/sample - loss: 0.0012 - accuracy: 0.9997 - val_loss: 0.9784 - val_accuracy: 0.8414\n",
      "Epoch 18/20\n",
      "20000/20000 [==============================] - 3s 132us/sample - loss: 9.4294e-04 - accuracy: 0.9997 - val_loss: 0.9644 - val_accuracy: 0.8416\n",
      "Epoch 19/20\n",
      "20000/20000 [==============================] - 3s 131us/sample - loss: 6.5165e-04 - accuracy: 0.9998 - val_loss: 1.0011 - val_accuracy: 0.8416\n",
      "Epoch 20/20\n",
      "20000/20000 [==============================] - 3s 133us/sample - loss: 7.0401e-04 - accuracy: 0.9998 - val_loss: 0.9879 - val_accuracy: 0.8397\n"
     ]
    },
    {
     "data": {
      "text/plain": [
       "<tensorflow.python.keras.callbacks.History at 0x7fab342067d0>"
      ]
     },
     "execution_count": 25,
     "metadata": {},
     "output_type": "execute_result"
    }
   ],
   "source": [
    "model_1.compile(loss=\"binary_crossentropy\",\n",
    "              optimizer=\"adam\",\n",
    "              metrics=[\"accuracy\"])\n",
    "model_1.fit(X_train, y_train,\n",
    "          epochs=20,\n",
    "          validation_data=(X_test, y_test))"
   ]
  },
  {
   "cell_type": "markdown",
   "metadata": {},
   "source": [
    "### Model 2"
   ]
  },
  {
   "cell_type": "code",
   "execution_count": 15,
   "metadata": {},
   "outputs": [],
   "source": [
    "model_2 = tf.keras.Sequential([\n",
    "    tf.keras.layers.Embedding(10000, 16, input_length=24),\n",
    "    tf.keras.layers.GlobalAveragePooling1D(),\n",
    "    tf.keras.layers.Dense(24, activation=\"relu\"),\n",
    "    tf.keras.layers.Dense(1, activation=\"sigmoid\")\n",
    "])"
   ]
  },
  {
   "cell_type": "code",
   "execution_count": 16,
   "metadata": {},
   "outputs": [
    {
     "name": "stdout",
     "output_type": "stream",
     "text": [
      "Model: \"sequential_1\"\n",
      "_________________________________________________________________\n",
      "Layer (type)                 Output Shape              Param #   \n",
      "=================================================================\n",
      "embedding_1 (Embedding)      (None, 24, 16)            160000    \n",
      "_________________________________________________________________\n",
      "global_average_pooling1d (Gl (None, 16)                0         \n",
      "_________________________________________________________________\n",
      "dense_2 (Dense)              (None, 24)                408       \n",
      "_________________________________________________________________\n",
      "dense_3 (Dense)              (None, 1)                 25        \n",
      "=================================================================\n",
      "Total params: 160,433\n",
      "Trainable params: 160,433\n",
      "Non-trainable params: 0\n",
      "_________________________________________________________________\n"
     ]
    }
   ],
   "source": [
    "model_2.summary()"
   ]
  },
  {
   "cell_type": "markdown",
   "metadata": {},
   "source": [
    "## Model parameters"
   ]
  },
  {
   "cell_type": "markdown",
   "metadata": {},
   "source": [
    "### Embedding projection\n",
    "Save the embedding to two files as below and upload them for embedding projection on https://projector.tensorflow.org/. From the webpage, click \"load\" to load files. Check \"Sphereize\" box to better view the projection."
   ]
  },
  {
   "cell_type": "code",
   "execution_count": 21,
   "metadata": {},
   "outputs": [
    {
     "data": {
      "text/plain": [
       "(10000, 16)"
      ]
     },
     "execution_count": 21,
     "metadata": {},
     "output_type": "execute_result"
    }
   ],
   "source": [
    "embedding_layer = model_1.layers[0]\n",
    "# each row is the embeddings ofa words\n",
    "embeddings = embedding_layer.get_weights()[0]\n",
    "embeddings.shape"
   ]
  },
  {
   "cell_type": "code",
   "execution_count": 24,
   "metadata": {},
   "outputs": [],
   "source": [
    "import pandas as pd\n",
    "word_index = tokenizer.word_index\n",
    "\n",
    "df_embd = pd.DataFrame(embeddings)\n",
    "df_words = pd.DataFrame(list(word_index.keys())[0:10000])\n",
    "\n",
    "# save to tsv files for embedding projection upload them to https://projector.tensorflow.org/\n",
    "df_embd.to_csv(\"vecs.tsv\", sep=\"\\t\", header=False, index=False)\n",
    "df_words.to_csv(\"meta.tsv\", header=False, index=False)"
   ]
  },
  {
   "cell_type": "markdown",
   "metadata": {},
   "source": [
    "### Plot loss and metrics"
   ]
  },
  {
   "cell_type": "code",
   "execution_count": 27,
   "metadata": {},
   "outputs": [],
   "source": [
    "import matplotlib.pyplot as plt\n",
    "loss_metrics = dict(model_1.history.history.items())\n",
    "loss = loss_metrics[\"loss\"]\n",
    "accuracy = loss_metrics[\"accuracy\"]\n",
    "val_loss = loss_metrics[\"val_loss\"]\n",
    "val_accuracy = loss_metrics[\"val_accuracy\"]"
   ]
  },
  {
   "cell_type": "code",
   "execution_count": 28,
   "metadata": {},
   "outputs": [
    {
     "data": {
      "image/png": "[encoded data removed]",
      "text/plain": [
       "<Figure size 432x288 with 1 Axes>"
      ]
     },
     "metadata": {
      "needs_background": "light"
     },
     "output_type": "display_data"
    }
   ],
   "source": [
    "plt.plot(loss, label=\"loss\")\n",
    "plt.plot(val_loss, label=\"val_loss\")\n",
    "plt.xlabel(\"epochs\")\n",
    "plt.ylabel(\"loss\")\n",
    "plt.legend()\n",
    "plt.show()"
   ]
  },
  {
   "cell_type": "code",
   "execution_count": 32,
   "metadata": {},
   "outputs": [
    {
     "data": {
      "image/png": "[encoded data removed]",
      "text/plain": [
       "<Figure size 432x288 with 1 Axes>"
      ]
     },
     "metadata": {
      "needs_background": "light"
     },
     "output_type": "display_data"
    }
   ],
   "source": [
    "plt.plot(accuracy, label=\"accuracy\")\n",
    "plt.plot(val_accuracy, label=\"val_accuracy\")\n",
    "plt.xlabel(\"epochs\")\n",
    "plt.ylabel(\"accuracy\")\n",
    "plt.ylim(0, 1.05)\n",
    "plt.legend()\n",
    "plt.show()"
   ]
  },
  {
   "cell_type": "markdown",
   "metadata": {},
   "source": [
    "## Additional layers\n",
    "### LSTM\n",
    "Like flatten and 1D pooling, LSTM also converts an embedding to a dense layer. The LSTM is a series of LSTM cells of input sequence length. Each cell has a hidden layer of $h$ units.\n",
    "\n",
    "Read this post [Understanding LSTM Networks](http://colah.github.io/posts/2015-08-Understanding-LSTMs/?source=post_page-----37e2f46f1714----------------------) to understand LSTM."
   ]
  },
  {
   "cell_type": "markdown",
   "metadata": {},
   "source": [
    "**LSTM with a forget gate**\n",
    "\n",
    "The compact forms of the equations for the forward pass of an LSTM unit with a forget gate are:\n",
    "\n",
    "\\begin{aligned}f_{t}&=\\sigma _{g}(W_{f}x_{t}+U_{f}h_{t-1}+b_{f})\\\\i_{t}&=\\sigma _{g}(W_{i}x_{t}+U_{i}h_{t-1}+b_{i})\\\\o_{t}&=\\sigma _{g}(W_{o}x_{t}+U_{o}h_{t-1}+b_{o})\\\\c_{t}&=f_{t}\\circ c_{t-1}+i_{t}\\circ \\sigma _{c}(W_{c}x_{t}+U_{c}h_{t-1}+b_{c})\\\\h_{t}&=o_{t}\\circ \\sigma _{h}(c_{t})\\end{aligned}\n",
    "\n",
    "\n",
    "where the initial values are $c_{0}=0$ and $h_{0}=0$ and the operator $\\circ$  denotes the Hadamard product (element-wise product). The subscript $t$ indexes the time step.\n",
    "\n",
    "Variables\n",
    "\n",
    "- $x_{t}\\in \\mathbb {R} ^{d}$: input vector to the LSTM unit\n",
    "- $f_{t}\\in \\mathbb {R} ^{h}$: forget gate's activation vector\n",
    "- $i_{t}\\in \\mathbb {R} ^{h}$: input/update gate's activation vector\n",
    "- $o_{t}\\in \\mathbb {R} ^{h}$: output gate's activation vector\n",
    "- $h_{t}\\in \\mathbb {R} ^{h}$: hidden state vector also known as output vector of the LSTM unit\n",
    "- $c_{t}\\in \\mathbb {R} ^{h}$: cell state vector\n",
    "- $W\\in \\mathbb {R} ^{h\\times d}$, $U\\in \\mathbb {R} ^{h\\times h}$, $b\\in \\mathbb {R} ^{h}$: weight matrices and bias vector parameters which need to be learned during training. The total number of parameters need to be trained is $4h(h + d + 1)$.\n",
    "\n",
    "where the superscripts $d$ and $h$ refer to the number of input features and number of hidden units (in one LSTM cell), respectively.\n"
   ]
  },
  {
   "cell_type": "code",
   "execution_count": 15,
   "metadata": {},
   "outputs": [
    {
     "name": "stdout",
     "output_type": "stream",
     "text": [
      "Model: \"sequential_2\"\n",
      "_________________________________________________________________\n",
      "Layer (type)                 Output Shape              Param #   \n",
      "=================================================================\n",
      "embedding_2 (Embedding)      (None, 24, 16)            160000    \n",
      "_________________________________________________________________\n",
      "lstm_1 (LSTM)                (None, 24, 64)            20736     \n",
      "_________________________________________________________________\n",
      "lstm_2 (LSTM)                (None, 32)                12416     \n",
      "_________________________________________________________________\n",
      "dense_4 (Dense)              (None, 24)                792       \n",
      "_________________________________________________________________\n",
      "dense_5 (Dense)              (None, 1)                 25        \n",
      "=================================================================\n",
      "Total params: 193,969\n",
      "Trainable params: 193,969\n",
      "Non-trainable params: 0\n",
      "_________________________________________________________________\n"
     ]
    }
   ],
   "source": [
    "lstm = tf.keras.Sequential([\n",
    "    tf.keras.layers.Embedding(10000, 16, input_length=24),\n",
    "    tf.keras.layers.LSTM(64, return_sequences=True),  # return the output at each time step (each word)\n",
    "    tf.keras.layers.LSTM(32),                         # return the value of the last step (last word)\n",
    "    tf.keras.layers.Dense(24, activation=\"relu\"),\n",
    "    tf.keras.layers.Dense(1, activation=\"sigmoid\")\n",
    "])\n",
    "lstm.summary()"
   ]
  },
  {
   "cell_type": "code",
   "execution_count": 16,
   "metadata": {},
   "outputs": [
    {
     "name": "stdout",
     "output_type": "stream",
     "text": [
      "Train on 20009 samples, validate on 8610 samples\n",
      "Epoch 1/5\n",
      "20009/20009 [==============================] - 25s 1ms/sample - loss: 0.4254 - accuracy: 0.7876 - val_loss: 0.3492 - val_accuracy: 0.8404\n",
      "Epoch 2/5\n",
      "20009/20009 [==============================] - 20s 998us/sample - loss: 0.2423 - accuracy: 0.9012 - val_loss: 0.3432 - val_accuracy: 0.8501\n",
      "Epoch 3/5\n",
      "20009/20009 [==============================] - 20s 978us/sample - loss: 0.1806 - accuracy: 0.9303 - val_loss: 0.3556 - val_accuracy: 0.8509\n",
      "Epoch 4/5\n",
      "20009/20009 [==============================] - 20s 994us/sample - loss: 0.1385 - accuracy: 0.9488 - val_loss: 0.4350 - val_accuracy: 0.8418\n",
      "Epoch 5/5\n",
      "20009/20009 [==============================] - 20s 986us/sample - loss: 0.1027 - accuracy: 0.9650 - val_loss: 0.5454 - val_accuracy: 0.8397\n"
     ]
    },
    {
     "data": {
      "text/plain": [
       "<tensorflow.python.keras.callbacks.History at 0x7f6a3f204410>"
      ]
     },
     "execution_count": 16,
     "metadata": {},
     "output_type": "execute_result"
    }
   ],
   "source": [
    "lstm.compile(loss=\"binary_crossentropy\",\n",
    "              optimizer=\"adam\",\n",
    "              metrics=[\"accuracy\"])\n",
    "lstm.fit(X_train, y_train,\n",
    "          epochs=5,\n",
    "          validation_data=(X_test, y_test))"
   ]
  },
  {
   "cell_type": "markdown",
   "metadata": {},
   "source": [
    "### CNN"
   ]
  },
  {
   "cell_type": "code",
   "execution_count": null,
   "metadata": {},
   "outputs": [],
   "source": [
    "cnn = tf.keras.Sequential([\n",
    "    tf.keras.layers.Embedding(tokenizer.vocab_size, 64),\n",
    "    tf.keras.layers.Conv1D(128, 5, activation='relu'), \n",
    "    tf.keras.layers.GlobalMaxPooling1D(),\n",
    "    tf.keras.layers.Dense(64, activation='relu'),\n",
    "    tf.keras.layers.Dense(1, activation='sigmoid')\n",
    "])"
   ]
  }
 ],
 "metadata": {
  "kernelspec": {
   "display_name": "Python 3",
   "language": "python",
   "name": "python3"
  },
  "language_info": {
   "codemirror_mode": {
    "name": "ipython",
    "version": 3
   },
   "file_extension": ".py",
   "mimetype": "text/x-python",
   "name": "python",
   "nbconvert_exporter": "python",
   "pygments_lexer": "ipython3",
   "version": "3.7.4"
  }
 },
 "nbformat": 4,
 "nbformat_minor": 2
}
